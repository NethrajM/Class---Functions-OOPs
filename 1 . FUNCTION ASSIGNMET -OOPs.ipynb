{
 "cells": [
  {
   "cell_type": "code",
   "execution_count": 1,
   "metadata": {},
   "outputs": [],
   "source": [
    "# create function "
   ]
  },
  {
   "cell_type": "code",
   "execution_count": 3,
   "metadata": {},
   "outputs": [
    {
     "name": "stdout",
     "output_type": "stream",
     "text": [
      "Enter the number :13\n"
     ]
    },
    {
     "data": {
      "text/plain": [
       "'it is odd'"
      ]
     },
     "execution_count": 3,
     "metadata": {},
     "output_type": "execute_result"
    }
   ],
   "source": [
    "#oddeven \n",
    "def oddEven():\n",
    "    num=int(input(\"Enter the number :\"))\n",
    "    if (num%2) == 0:\n",
    "       print (\"It is even\")\n",
    "    else:\n",
    "        return \"it is odd\"\n",
    "        \n",
    "        \n",
    "oddEven()"
   ]
  },
  {
   "cell_type": "code",
   "execution_count": 7,
   "metadata": {},
   "outputs": [],
   "source": [
    "def Subfields():\n",
    "    list = ['Machine Learning', 'Neural Networks', 'Vision', 'Robotics', 'Speech Processing' ,'Natural Language Processing']\n",
    "    print(\"Sub-fields in AI are:\")\n",
    "    for i in list:\n",
    "        print(i)\n",
    "    \n",
    "Subfields()"
   ]
  },
  {
   "cell_type": "code",
   "execution_count": 21,
   "metadata": {},
   "outputs": [
    {
     "name": "stdout",
     "output_type": "stream",
     "text": [
      "Sub-fields in AI are:\n",
      "Machine Learning\n",
      "Neural Networks\n",
      "Vision\n",
      "Robotics\n",
      "Speech Processing\n",
      "Natural Language Processing\n"
     ]
    }
   ],
   "source": []
  },
  {
   "cell_type": "code",
   "execution_count": 23,
   "metadata": {},
   "outputs": [
    {
     "name": "stdout",
     "output_type": "stream",
     "text": [
      "Enter your gender: Male\n",
      "Enter your age: 18\n",
      "Your Gender: Male\n",
      "Your Age: 18\n",
      "NOT ELIGIBILE\n"
     ]
    }
   ],
   "source": [
    "def Elegible():\n",
    "    Gender = input(\"Enter your gender: \")\n",
    "    Age = int(input(\"Enter your age: \"))\n",
    "    if (Gender==\"male\") and (Age < 18):\n",
    "        print(\"Your Gender: \"+Gender)\n",
    "        print(\"Your Age: \"+str(Age))\n",
    "        print(\"ELIGIBILE\")\n",
    "    elif(Gender==\"Male\") and (Age == 18):\n",
    "        print(\"Your Gender: \"+Gender)\n",
    "        print(\"Your Age: \"+str(Age))\n",
    "        print(\"NOT ELIGIBILE\")\n",
    "        \n",
    "Elegible()"
   ]
  },
  {
   "cell_type": "code",
   "execution_count": null,
   "metadata": {},
   "outputs": [],
   "source": [
    "def percentage():\n",
    "    sub1 = int(input(\"Enter your subject1 mark: \"))\n",
    "    sub2 = int(input(\"Enter your subject2 mark: \"))\n",
    "    sub3 = int(input(\"Enter your subject3 mark: \"))\n",
    "    sub4 = int(input(\"Enter your subject4 mark: \"))\n",
    "    sub5 = int(input(\"Enter your subject5 mark: \"))\n",
    "    list1 = [sub1,sub2,sub3,sub4,sub5]\n",
    "    total = 0\n",
    "    for i in range(0, len(list1)):\n",
    "        total = total+list1[i]\n",
    "    percentage = (total/(len(list1)*100))*100\n",
    "    \n",
    "    print(\"Subject1: \"+str(sub1))\n",
    "    print(\"Subject2: \"+str(sub2))\n",
    "    print(\"Subject3: \"+str(sub3))\n",
    "    print(\"Subject4: \"+str(sub4))\n",
    "    print(\"Subject5: \"+str(sub5))\n",
    "    print(\"Total: \"+str(total))\n",
    "    print('Percentage: '+str(percentage))\n",
    "    # print(sum(list1))\n",
    "\n",
    "percentage()"
   ]
  },
  {
   "cell_type": "code",
   "execution_count": null,
   "metadata": {},
   "outputs": [],
   "source": []
  },
  {
   "cell_type": "code",
   "execution_count": null,
   "metadata": {},
   "outputs": [],
   "source": []
  }
 ],
 "metadata": {
  "kernelspec": {
   "display_name": "Python 3",
   "language": "python",
   "name": "python3"
  },
  "language_info": {
   "codemirror_mode": {
    "name": "ipython",
    "version": 3
   },
   "file_extension": ".py",
   "mimetype": "text/x-python",
   "name": "python",
   "nbconvert_exporter": "python",
   "pygments_lexer": "ipython3",
   "version": "3.7.4"
  }
 },
 "nbformat": 4,
 "nbformat_minor": 2
}
