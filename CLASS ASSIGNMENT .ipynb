{
 "cells": [
  {
   "cell_type": "code",
   "execution_count": 1,
   "metadata": {},
   "outputs": [
    {
     "name": "stdout",
     "output_type": "stream",
     "text": [
      "Sub-fields in AI are:\n",
      "Machine Learning\n",
      "Neural Networks\n",
      "Vision\n",
      "Robotics\n",
      "Speech Processing\n",
      "Natural Language Processing\n"
     ]
    }
   ],
   "source": [
    "class SubfieldsInAI():\n",
    "\n",
    "    def Subfields():\n",
    "        list = ['Machine Learning', 'Neural Networks', 'Vision', 'Robotics', 'Speech Processing' ,'Natural Language Processing']\n",
    "        print(\"Sub-fields in AI are:\")\n",
    "        for i in list:\n",
    "            print(i)\n",
    "    \n",
    "SubfieldsInAI.Subfields()"
   ]
  },
  {
   "cell_type": "code",
   "execution_count": 3,
   "metadata": {},
   "outputs": [
    {
     "name": "stdout",
     "output_type": "stream",
     "text": [
      "Enter the number :52452\n",
      "It is even\n"
     ]
    }
   ],
   "source": [
    "class OddEven():\n",
    "    def OddEven():\n",
    "        num=int(input(\"Enter the number :\"))\n",
    "        if (num%2) == 0:\n",
    "           print (\"It is even\")\n",
    "        else:\n",
    "            return \"it is odd\"\n",
    "OddEven.OddEven()    \n",
    "    "
   ]
  },
  {
   "cell_type": "code",
   "execution_count": 1,
   "metadata": {},
   "outputs": [
    {
     "name": "stdout",
     "output_type": "stream",
     "text": [
      "Enter your gender: Male\n",
      "Enter your age: 18\n",
      "Your Gender: Male\n",
      "Your Age: 18\n",
      "NOT ELIGIBILE\n"
     ]
    }
   ],
   "source": [
    "class Elegible():\n",
    "    def Elegible():\n",
    "        Gender = input(\"Enter your gender: \")\n",
    "        Age = int(input(\"Enter your age: \"))\n",
    "        if (Gender==\"male\") and (Age < 18):\n",
    "            print(\"Your Gender: \"+Gender)\n",
    "            print(\"Your Age: \"+str(Age))\n",
    "            print(\"ELIGIBILE\")\n",
    "        elif(Gender==\"Male\") and (Age == 18):\n",
    "            print(\"Your Gender: \"+Gender)\n",
    "            print(\"Your Age: \"+str(Age))\n",
    "            print(\"NOT ELIGIBILE\")\n",
    "Elegible.Elegible()          "
   ]
  },
  {
   "cell_type": "code",
   "execution_count": null,
   "metadata": {},
   "outputs": [],
   "source": []
  },
  {
   "cell_type": "code",
   "execution_count": null,
   "metadata": {},
   "outputs": [],
   "source": []
  }
 ],
 "metadata": {
  "kernelspec": {
   "display_name": "Python 3",
   "language": "python",
   "name": "python3"
  },
  "language_info": {
   "codemirror_mode": {
    "name": "ipython",
    "version": 3
   },
   "file_extension": ".py",
   "mimetype": "text/x-python",
   "name": "python",
   "nbconvert_exporter": "python",
   "pygments_lexer": "ipython3",
   "version": "3.7.4"
  }
 },
 "nbformat": 4,
 "nbformat_minor": 2
}
